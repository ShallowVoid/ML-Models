{
  "nbformat": 4,
  "nbformat_minor": 0,
  "metadata": {
    "colab": {
      "provenance": []
    },
    "kernelspec": {
      "name": "python3",
      "display_name": "Python 3"
    },
    "language_info": {
      "name": "python"
    }
  },
  "cells": [
    {
      "cell_type": "code",
      "source": [
        "import pandas as pd\n",
        "from sklearn.metrics import accuracy_score,roc_auc_score,classification_report,confusion_matrix\n",
        "from sklearn.model_selection import train_test_split, GridSearchCV\n",
        "from sklearn.metrics import roc_auc_score\n",
        "from sklearn.preprocessing import StandardScaler\n",
        "from imblearn.over_sampling import SMOTE\n",
        "from xgboost import XGBClassifier\n",
        "import matplotlib.pyplot as plt\n",
        "import seaborn as sns"
      ],
      "metadata": {
        "id": "wwXbWf40V23F"
      },
      "execution_count": 79,
      "outputs": []
    },
    {
      "cell_type": "code",
      "source": [
        "df_train = pd.read_csv(\"/content/Disease_train.csv\")\n",
        "df_train.head()"
      ],
      "metadata": {
        "colab": {
          "base_uri": "https://localhost:8080/",
          "height": 206
        },
        "id": "fMoxik63V5Oo",
        "outputId": "3b68e80b-befd-4083-91ff-eed72d9f5791"
      },
      "execution_count": 80,
      "outputs": [
        {
          "output_type": "execute_result",
          "data": {
            "text/plain": [
              "   feature_1  feature_2  feature_3  feature_4  feature_5  feature_6  \\\n",
              "0   0.374540   0.950714   0.731994   0.598658   0.156019   0.155995   \n",
              "1   0.020584   0.969910   0.832443   0.212339   0.181825   0.183405   \n",
              "2   0.611853   0.139494   0.292145   0.366362   0.456070   0.785176   \n",
              "3   0.388677   0.271349   0.828738   0.356753   0.280935   0.542696   \n",
              "4   0.772245   0.198716   0.005522   0.815461   0.706857   0.729007   \n",
              "\n",
              "   feature_7  feature_8  feature_9  feature_10  patient_id  diagnosis  \n",
              "0   0.058084   0.866176   0.601115    0.708073           1          0  \n",
              "1   0.304242   0.524756   0.431945    0.291229           2          0  \n",
              "2   0.199674   0.514234   0.592415    0.046450           3          0  \n",
              "3   0.140924   0.802197   0.074551    0.986887           7          0  \n",
              "4   0.771270   0.074045   0.358466    0.115869           8          0  "
            ],
            "text/html": [
              "\n",
              "  <div id=\"df-d41273ce-d039-45c2-bfec-23d4f00b83f4\" class=\"colab-df-container\">\n",
              "    <div>\n",
              "<style scoped>\n",
              "    .dataframe tbody tr th:only-of-type {\n",
              "        vertical-align: middle;\n",
              "    }\n",
              "\n",
              "    .dataframe tbody tr th {\n",
              "        vertical-align: top;\n",
              "    }\n",
              "\n",
              "    .dataframe thead th {\n",
              "        text-align: right;\n",
              "    }\n",
              "</style>\n",
              "<table border=\"1\" class=\"dataframe\">\n",
              "  <thead>\n",
              "    <tr style=\"text-align: right;\">\n",
              "      <th></th>\n",
              "      <th>feature_1</th>\n",
              "      <th>feature_2</th>\n",
              "      <th>feature_3</th>\n",
              "      <th>feature_4</th>\n",
              "      <th>feature_5</th>\n",
              "      <th>feature_6</th>\n",
              "      <th>feature_7</th>\n",
              "      <th>feature_8</th>\n",
              "      <th>feature_9</th>\n",
              "      <th>feature_10</th>\n",
              "      <th>patient_id</th>\n",
              "      <th>diagnosis</th>\n",
              "    </tr>\n",
              "  </thead>\n",
              "  <tbody>\n",
              "    <tr>\n",
              "      <th>0</th>\n",
              "      <td>0.374540</td>\n",
              "      <td>0.950714</td>\n",
              "      <td>0.731994</td>\n",
              "      <td>0.598658</td>\n",
              "      <td>0.156019</td>\n",
              "      <td>0.155995</td>\n",
              "      <td>0.058084</td>\n",
              "      <td>0.866176</td>\n",
              "      <td>0.601115</td>\n",
              "      <td>0.708073</td>\n",
              "      <td>1</td>\n",
              "      <td>0</td>\n",
              "    </tr>\n",
              "    <tr>\n",
              "      <th>1</th>\n",
              "      <td>0.020584</td>\n",
              "      <td>0.969910</td>\n",
              "      <td>0.832443</td>\n",
              "      <td>0.212339</td>\n",
              "      <td>0.181825</td>\n",
              "      <td>0.183405</td>\n",
              "      <td>0.304242</td>\n",
              "      <td>0.524756</td>\n",
              "      <td>0.431945</td>\n",
              "      <td>0.291229</td>\n",
              "      <td>2</td>\n",
              "      <td>0</td>\n",
              "    </tr>\n",
              "    <tr>\n",
              "      <th>2</th>\n",
              "      <td>0.611853</td>\n",
              "      <td>0.139494</td>\n",
              "      <td>0.292145</td>\n",
              "      <td>0.366362</td>\n",
              "      <td>0.456070</td>\n",
              "      <td>0.785176</td>\n",
              "      <td>0.199674</td>\n",
              "      <td>0.514234</td>\n",
              "      <td>0.592415</td>\n",
              "      <td>0.046450</td>\n",
              "      <td>3</td>\n",
              "      <td>0</td>\n",
              "    </tr>\n",
              "    <tr>\n",
              "      <th>3</th>\n",
              "      <td>0.388677</td>\n",
              "      <td>0.271349</td>\n",
              "      <td>0.828738</td>\n",
              "      <td>0.356753</td>\n",
              "      <td>0.280935</td>\n",
              "      <td>0.542696</td>\n",
              "      <td>0.140924</td>\n",
              "      <td>0.802197</td>\n",
              "      <td>0.074551</td>\n",
              "      <td>0.986887</td>\n",
              "      <td>7</td>\n",
              "      <td>0</td>\n",
              "    </tr>\n",
              "    <tr>\n",
              "      <th>4</th>\n",
              "      <td>0.772245</td>\n",
              "      <td>0.198716</td>\n",
              "      <td>0.005522</td>\n",
              "      <td>0.815461</td>\n",
              "      <td>0.706857</td>\n",
              "      <td>0.729007</td>\n",
              "      <td>0.771270</td>\n",
              "      <td>0.074045</td>\n",
              "      <td>0.358466</td>\n",
              "      <td>0.115869</td>\n",
              "      <td>8</td>\n",
              "      <td>0</td>\n",
              "    </tr>\n",
              "  </tbody>\n",
              "</table>\n",
              "</div>\n",
              "    <div class=\"colab-df-buttons\">\n",
              "\n",
              "  <div class=\"colab-df-container\">\n",
              "    <button class=\"colab-df-convert\" onclick=\"convertToInteractive('df-d41273ce-d039-45c2-bfec-23d4f00b83f4')\"\n",
              "            title=\"Convert this dataframe to an interactive table.\"\n",
              "            style=\"display:none;\">\n",
              "\n",
              "  <svg xmlns=\"http://www.w3.org/2000/svg\" height=\"24px\" viewBox=\"0 -960 960 960\">\n",
              "    <path d=\"M120-120v-720h720v720H120Zm60-500h600v-160H180v160Zm220 220h160v-160H400v160Zm0 220h160v-160H400v160ZM180-400h160v-160H180v160Zm440 0h160v-160H620v160ZM180-180h160v-160H180v160Zm440 0h160v-160H620v160Z\"/>\n",
              "  </svg>\n",
              "    </button>\n",
              "\n",
              "  <style>\n",
              "    .colab-df-container {\n",
              "      display:flex;\n",
              "      gap: 12px;\n",
              "    }\n",
              "\n",
              "    .colab-df-convert {\n",
              "      background-color: #E8F0FE;\n",
              "      border: none;\n",
              "      border-radius: 50%;\n",
              "      cursor: pointer;\n",
              "      display: none;\n",
              "      fill: #1967D2;\n",
              "      height: 32px;\n",
              "      padding: 0 0 0 0;\n",
              "      width: 32px;\n",
              "    }\n",
              "\n",
              "    .colab-df-convert:hover {\n",
              "      background-color: #E2EBFA;\n",
              "      box-shadow: 0px 1px 2px rgba(60, 64, 67, 0.3), 0px 1px 3px 1px rgba(60, 64, 67, 0.15);\n",
              "      fill: #174EA6;\n",
              "    }\n",
              "\n",
              "    .colab-df-buttons div {\n",
              "      margin-bottom: 4px;\n",
              "    }\n",
              "\n",
              "    [theme=dark] .colab-df-convert {\n",
              "      background-color: #3B4455;\n",
              "      fill: #D2E3FC;\n",
              "    }\n",
              "\n",
              "    [theme=dark] .colab-df-convert:hover {\n",
              "      background-color: #434B5C;\n",
              "      box-shadow: 0px 1px 3px 1px rgba(0, 0, 0, 0.15);\n",
              "      filter: drop-shadow(0px 1px 2px rgba(0, 0, 0, 0.3));\n",
              "      fill: #FFFFFF;\n",
              "    }\n",
              "  </style>\n",
              "\n",
              "    <script>\n",
              "      const buttonEl =\n",
              "        document.querySelector('#df-d41273ce-d039-45c2-bfec-23d4f00b83f4 button.colab-df-convert');\n",
              "      buttonEl.style.display =\n",
              "        google.colab.kernel.accessAllowed ? 'block' : 'none';\n",
              "\n",
              "      async function convertToInteractive(key) {\n",
              "        const element = document.querySelector('#df-d41273ce-d039-45c2-bfec-23d4f00b83f4');\n",
              "        const dataTable =\n",
              "          await google.colab.kernel.invokeFunction('convertToInteractive',\n",
              "                                                    [key], {});\n",
              "        if (!dataTable) return;\n",
              "\n",
              "        const docLinkHtml = 'Like what you see? Visit the ' +\n",
              "          '<a target=\"_blank\" href=https://colab.research.google.com/notebooks/data_table.ipynb>data table notebook</a>'\n",
              "          + ' to learn more about interactive tables.';\n",
              "        element.innerHTML = '';\n",
              "        dataTable['output_type'] = 'display_data';\n",
              "        await google.colab.output.renderOutput(dataTable, element);\n",
              "        const docLink = document.createElement('div');\n",
              "        docLink.innerHTML = docLinkHtml;\n",
              "        element.appendChild(docLink);\n",
              "      }\n",
              "    </script>\n",
              "  </div>\n",
              "\n",
              "\n",
              "<div id=\"df-30b888c5-1ceb-4b0d-8909-770de9bcc4f8\">\n",
              "  <button class=\"colab-df-quickchart\" onclick=\"quickchart('df-30b888c5-1ceb-4b0d-8909-770de9bcc4f8')\"\n",
              "            title=\"Suggest charts\"\n",
              "            style=\"display:none;\">\n",
              "\n",
              "<svg xmlns=\"http://www.w3.org/2000/svg\" height=\"24px\"viewBox=\"0 0 24 24\"\n",
              "     width=\"24px\">\n",
              "    <g>\n",
              "        <path d=\"M19 3H5c-1.1 0-2 .9-2 2v14c0 1.1.9 2 2 2h14c1.1 0 2-.9 2-2V5c0-1.1-.9-2-2-2zM9 17H7v-7h2v7zm4 0h-2V7h2v10zm4 0h-2v-4h2v4z\"/>\n",
              "    </g>\n",
              "</svg>\n",
              "  </button>\n",
              "\n",
              "<style>\n",
              "  .colab-df-quickchart {\n",
              "      --bg-color: #E8F0FE;\n",
              "      --fill-color: #1967D2;\n",
              "      --hover-bg-color: #E2EBFA;\n",
              "      --hover-fill-color: #174EA6;\n",
              "      --disabled-fill-color: #AAA;\n",
              "      --disabled-bg-color: #DDD;\n",
              "  }\n",
              "\n",
              "  [theme=dark] .colab-df-quickchart {\n",
              "      --bg-color: #3B4455;\n",
              "      --fill-color: #D2E3FC;\n",
              "      --hover-bg-color: #434B5C;\n",
              "      --hover-fill-color: #FFFFFF;\n",
              "      --disabled-bg-color: #3B4455;\n",
              "      --disabled-fill-color: #666;\n",
              "  }\n",
              "\n",
              "  .colab-df-quickchart {\n",
              "    background-color: var(--bg-color);\n",
              "    border: none;\n",
              "    border-radius: 50%;\n",
              "    cursor: pointer;\n",
              "    display: none;\n",
              "    fill: var(--fill-color);\n",
              "    height: 32px;\n",
              "    padding: 0;\n",
              "    width: 32px;\n",
              "  }\n",
              "\n",
              "  .colab-df-quickchart:hover {\n",
              "    background-color: var(--hover-bg-color);\n",
              "    box-shadow: 0 1px 2px rgba(60, 64, 67, 0.3), 0 1px 3px 1px rgba(60, 64, 67, 0.15);\n",
              "    fill: var(--button-hover-fill-color);\n",
              "  }\n",
              "\n",
              "  .colab-df-quickchart-complete:disabled,\n",
              "  .colab-df-quickchart-complete:disabled:hover {\n",
              "    background-color: var(--disabled-bg-color);\n",
              "    fill: var(--disabled-fill-color);\n",
              "    box-shadow: none;\n",
              "  }\n",
              "\n",
              "  .colab-df-spinner {\n",
              "    border: 2px solid var(--fill-color);\n",
              "    border-color: transparent;\n",
              "    border-bottom-color: var(--fill-color);\n",
              "    animation:\n",
              "      spin 1s steps(1) infinite;\n",
              "  }\n",
              "\n",
              "  @keyframes spin {\n",
              "    0% {\n",
              "      border-color: transparent;\n",
              "      border-bottom-color: var(--fill-color);\n",
              "      border-left-color: var(--fill-color);\n",
              "    }\n",
              "    20% {\n",
              "      border-color: transparent;\n",
              "      border-left-color: var(--fill-color);\n",
              "      border-top-color: var(--fill-color);\n",
              "    }\n",
              "    30% {\n",
              "      border-color: transparent;\n",
              "      border-left-color: var(--fill-color);\n",
              "      border-top-color: var(--fill-color);\n",
              "      border-right-color: var(--fill-color);\n",
              "    }\n",
              "    40% {\n",
              "      border-color: transparent;\n",
              "      border-right-color: var(--fill-color);\n",
              "      border-top-color: var(--fill-color);\n",
              "    }\n",
              "    60% {\n",
              "      border-color: transparent;\n",
              "      border-right-color: var(--fill-color);\n",
              "    }\n",
              "    80% {\n",
              "      border-color: transparent;\n",
              "      border-right-color: var(--fill-color);\n",
              "      border-bottom-color: var(--fill-color);\n",
              "    }\n",
              "    90% {\n",
              "      border-color: transparent;\n",
              "      border-bottom-color: var(--fill-color);\n",
              "    }\n",
              "  }\n",
              "</style>\n",
              "\n",
              "  <script>\n",
              "    async function quickchart(key) {\n",
              "      const quickchartButtonEl =\n",
              "        document.querySelector('#' + key + ' button');\n",
              "      quickchartButtonEl.disabled = true;  // To prevent multiple clicks.\n",
              "      quickchartButtonEl.classList.add('colab-df-spinner');\n",
              "      try {\n",
              "        const charts = await google.colab.kernel.invokeFunction(\n",
              "            'suggestCharts', [key], {});\n",
              "      } catch (error) {\n",
              "        console.error('Error during call to suggestCharts:', error);\n",
              "      }\n",
              "      quickchartButtonEl.classList.remove('colab-df-spinner');\n",
              "      quickchartButtonEl.classList.add('colab-df-quickchart-complete');\n",
              "    }\n",
              "    (() => {\n",
              "      let quickchartButtonEl =\n",
              "        document.querySelector('#df-30b888c5-1ceb-4b0d-8909-770de9bcc4f8 button');\n",
              "      quickchartButtonEl.style.display =\n",
              "        google.colab.kernel.accessAllowed ? 'block' : 'none';\n",
              "    })();\n",
              "  </script>\n",
              "</div>\n",
              "\n",
              "    </div>\n",
              "  </div>\n"
            ],
            "application/vnd.google.colaboratory.intrinsic+json": {
              "type": "dataframe",
              "variable_name": "df_train",
              "summary": "{\n  \"name\": \"df_train\",\n  \"rows\": 4000,\n  \"fields\": [\n    {\n      \"column\": \"feature_1\",\n      \"properties\": {\n        \"dtype\": \"number\",\n        \"std\": 0.28895268668778645,\n        \"min\": 0.0001251387565754,\n        \"max\": 0.9998051441338016,\n        \"num_unique_values\": 4000,\n        \"samples\": [\n          0.2874025338454825,\n          0.8210674388113107,\n          0.0881422433907921\n        ],\n        \"semantic_type\": \"\",\n        \"description\": \"\"\n      }\n    },\n    {\n      \"column\": \"feature_2\",\n      \"properties\": {\n        \"dtype\": \"number\",\n        \"std\": 0.2914940721266054,\n        \"min\": 1.6736257934746313e-05,\n        \"max\": 0.9997893718125952,\n        \"num_unique_values\": 4000,\n        \"samples\": [\n          0.5578791835778856,\n          0.1982568567309076,\n          0.4136655235832069\n        ],\n        \"semantic_type\": \"\",\n        \"description\": \"\"\n      }\n    },\n    {\n      \"column\": \"feature_3\",\n      \"properties\": {\n        \"dtype\": \"number\",\n        \"std\": 0.28639042615050925,\n        \"min\": 1.1634755366141114e-05,\n        \"max\": 0.9999569543687702,\n        \"num_unique_values\": 4000,\n        \"samples\": [\n          0.3043075918208643,\n          0.547864749895069,\n          0.750160832954601\n        ],\n        \"semantic_type\": \"\",\n        \"description\": \"\"\n      }\n    },\n    {\n      \"column\": \"feature_4\",\n      \"properties\": {\n        \"dtype\": \"number\",\n        \"std\": 0.28848627588976805,\n        \"min\": 0.0001577445780567,\n        \"max\": 0.9999009770092316,\n        \"num_unique_values\": 4000,\n        \"samples\": [\n          0.0864575071201523,\n          0.4464071980060199,\n          0.693400853429044\n        ],\n        \"semantic_type\": \"\",\n        \"description\": \"\"\n      }\n    },\n    {\n      \"column\": \"feature_5\",\n      \"properties\": {\n        \"dtype\": \"number\",\n        \"std\": 0.28758469327652314,\n        \"min\": 0.0001346930044853,\n        \"max\": 0.99924058022444,\n        \"num_unique_values\": 4000,\n        \"samples\": [\n          0.0014283430791767,\n          0.325826242340136,\n          0.990642737172179\n        ],\n        \"semantic_type\": \"\",\n        \"description\": \"\"\n      }\n    },\n    {\n      \"column\": \"feature_6\",\n      \"properties\": {\n        \"dtype\": \"number\",\n        \"std\": 0.2899117772784199,\n        \"min\": 4.81238943117468e-05,\n        \"max\": 0.999697209659069,\n        \"num_unique_values\": 4000,\n        \"samples\": [\n          0.4495833529202623,\n          0.6183464134544641,\n          0.277891125987756\n        ],\n        \"semantic_type\": \"\",\n        \"description\": \"\"\n      }\n    },\n    {\n      \"column\": \"feature_7\",\n      \"properties\": {\n        \"dtype\": \"number\",\n        \"std\": 0.28711436427623693,\n        \"min\": 5.536675737993768e-06,\n        \"max\": 0.9999721473679823,\n        \"num_unique_values\": 4000,\n        \"samples\": [\n          0.8368634222265923,\n          0.5023257893301956,\n          0.4981892991739791\n        ],\n        \"semantic_type\": \"\",\n        \"description\": \"\"\n      }\n    },\n    {\n      \"column\": \"feature_8\",\n      \"properties\": {\n        \"dtype\": \"number\",\n        \"std\": 0.2887565136207407,\n        \"min\": 5.282693229680113e-05,\n        \"max\": 0.9998237501968622,\n        \"num_unique_values\": 4000,\n        \"samples\": [\n          0.5723151856300766,\n          0.334763173484582,\n          0.3295304137739967\n        ],\n        \"semantic_type\": \"\",\n        \"description\": \"\"\n      }\n    },\n    {\n      \"column\": \"feature_9\",\n      \"properties\": {\n        \"dtype\": \"number\",\n        \"std\": 0.28677925348586125,\n        \"min\": 0.0001102318018224,\n        \"max\": 0.9993503004722002,\n        \"num_unique_values\": 4000,\n        \"samples\": [\n          0.9992072989434408,\n          0.6888508851200049,\n          0.4406031140591747\n        ],\n        \"semantic_type\": \"\",\n        \"description\": \"\"\n      }\n    },\n    {\n      \"column\": \"feature_10\",\n      \"properties\": {\n        \"dtype\": \"number\",\n        \"std\": 0.2894829270345466,\n        \"min\": 0.0003110125288008,\n        \"max\": 0.9996732052420922,\n        \"num_unique_values\": 4000,\n        \"samples\": [\n          0.2868466456471999,\n          0.2799681910385398,\n          0.8569501298693881\n        ],\n        \"semantic_type\": \"\",\n        \"description\": \"\"\n      }\n    },\n    {\n      \"column\": \"patient_id\",\n      \"properties\": {\n        \"dtype\": \"number\",\n        \"std\": 1454,\n        \"min\": 1,\n        \"max\": 5000,\n        \"num_unique_values\": 4000,\n        \"samples\": [\n          676,\n          4378,\n          640\n        ],\n        \"semantic_type\": \"\",\n        \"description\": \"\"\n      }\n    },\n    {\n      \"column\": \"diagnosis\",\n      \"properties\": {\n        \"dtype\": \"number\",\n        \"std\": 0,\n        \"min\": 0,\n        \"max\": 1,\n        \"num_unique_values\": 2,\n        \"samples\": [\n          1,\n          0\n        ],\n        \"semantic_type\": \"\",\n        \"description\": \"\"\n      }\n    }\n  ]\n}"
            }
          },
          "metadata": {},
          "execution_count": 80
        }
      ]
    },
    {
      "cell_type": "code",
      "source": [
        "scaler=StandardScaler()\n",
        "df_train.iloc[:, 0:-1] = scaler.fit_transform(df_train.iloc[:, 0:-1])"
      ],
      "metadata": {
        "id": "ttc4LwHVWCDH"
      },
      "execution_count": 81,
      "outputs": []
    },
    {
      "cell_type": "code",
      "source": [
        "X = df_train.drop(columns=['patient_id', 'diagnosis'])\n",
        "y = df_train['diagnosis']\n"
      ],
      "metadata": {
        "id": "qV_-2VokWEcD"
      },
      "execution_count": 82,
      "outputs": []
    },
    {
      "cell_type": "code",
      "source": [
        "\n",
        "smote = SMOTE(random_state=42)\n",
        "X_resampled, y_resampled = smote.fit_resample(X, y)\n"
      ],
      "metadata": {
        "id": "rGkQ5PsUWLH0"
      },
      "execution_count": 83,
      "outputs": []
    },
    {
      "cell_type": "code",
      "source": [
        "X_train, X_val, y_train, y_val = train_test_split(X_resampled, y_resampled, test_size=0.2, random_state=42)"
      ],
      "metadata": {
        "id": "7hA-c1S9YmTp"
      },
      "execution_count": 84,
      "outputs": []
    },
    {
      "cell_type": "code",
      "source": [
        "xgb_model = XGBClassifier(random_state=42)"
      ],
      "metadata": {
        "id": "KaYPBxXnYokY"
      },
      "execution_count": 85,
      "outputs": []
    },
    {
      "cell_type": "code",
      "source": [
        "param_grid = {\n",
        "    'n_estimators': [50, 100, 200],\n",
        "    'max_depth': [3, 5, 7],\n",
        "    'learning_rate': [0.1, 0.01, 0.001],\n",
        "    'subsample': [0.6, 0.8, 1.0],\n",
        "}\n"
      ],
      "metadata": {
        "id": "u-WSxjuFYqgj"
      },
      "execution_count": 86,
      "outputs": []
    },
    {
      "cell_type": "code",
      "source": [
        "grid_search = GridSearchCV(xgb_model, param_grid, cv=5, scoring='roc_auc', n_jobs=-1)\n",
        "grid_search.fit(X_train, y_train)\n",
        "best_xgb_model = grid_search.best_estimator_"
      ],
      "metadata": {
        "id": "8dlkHZkiYsb1"
      },
      "execution_count": 87,
      "outputs": []
    },
    {
      "cell_type": "code",
      "source": [
        "train_probs = best_xgb_model.predict_proba(X_train)[:,1]\n",
        "train_roc_auc = roc_auc_score(y_train, train_probs)\n",
        "print(f\"Training ROC-AUC Score: {train_roc_auc}\")"
      ],
      "metadata": {
        "colab": {
          "base_uri": "https://localhost:8080/"
        },
        "id": "OFpnL7q9ZzjE",
        "outputId": "36861e66-2816-42d5-dc44-0882800a6cbf"
      },
      "execution_count": 88,
      "outputs": [
        {
          "output_type": "stream",
          "name": "stdout",
          "text": [
            "Training ROC-AUC Score: 1.0\n"
          ]
        }
      ]
    },
    {
      "cell_type": "code",
      "source": [
        "val_probs = best_xgb_model.predict_proba(X_val)[:,1]\n",
        "val_roc_auc = roc_auc_score(y_val, val_probs)\n",
        "print(f\"Validation ROC-AUC Score: {val_roc_auc}\")"
      ],
      "metadata": {
        "colab": {
          "base_uri": "https://localhost:8080/"
        },
        "id": "aanmilfMZ3iZ",
        "outputId": "84ba77ff-1587-4c17-9c78-090833edee6b"
      },
      "execution_count": 89,
      "outputs": [
        {
          "output_type": "stream",
          "name": "stdout",
          "text": [
            "Validation ROC-AUC Score: 0.993602097061627\n"
          ]
        }
      ]
    },
    {
      "cell_type": "code",
      "source": [
        "val_pred = (best_xgb_model.predict_proba(X_resampled)[:, 1]>0.5).astype(int)"
      ],
      "metadata": {
        "id": "72VKQNKYbMee"
      },
      "execution_count": 90,
      "outputs": []
    },
    {
      "cell_type": "code",
      "source": [
        "accuracy = accuracy_score(y_resampled, val_pred)\n",
        "report=classification_report(y_resampled,val_pred)\n",
        "print(\"Accuracy:\", accuracy)\n",
        "print(\"Classification Report:\\n\", report)"
      ],
      "metadata": {
        "colab": {
          "base_uri": "https://localhost:8080/"
        },
        "id": "RzOD_Mg2bKp_",
        "outputId": "f49d29c4-5c59-425d-e1ba-1105fb12631c"
      },
      "execution_count": 91,
      "outputs": [
        {
          "output_type": "stream",
          "name": "stdout",
          "text": [
            "Accuracy: 0.9896161934805467\n",
            "Classification Report:\n",
            "               precision    recall  f1-score   support\n",
            "\n",
            "           0       1.00      0.98      0.99      3804\n",
            "           1       0.98      1.00      0.99      3804\n",
            "\n",
            "    accuracy                           0.99      7608\n",
            "   macro avg       0.99      0.99      0.99      7608\n",
            "weighted avg       0.99      0.99      0.99      7608\n",
            "\n"
          ]
        }
      ]
    },
    {
      "cell_type": "code",
      "source": [
        "conf_matrix = confusion_matrix(y_resampled, val_pred)\n",
        "plt.figure(figsize=(8, 6))\n",
        "sns.heatmap(conf_matrix, annot=True, fmt='d', cmap='Blues', xticklabels=['Class 0', 'Class 1'], yticklabels=['Class 0', 'Class 1'])\n",
        "plt.xlabel('Predicted')\n",
        "plt.ylabel('Actual')\n",
        "plt.title('Confusion Matrix')\n",
        "plt.show()\n"
      ],
      "metadata": {
        "colab": {
          "base_uri": "https://localhost:8080/",
          "height": 564
        },
        "id": "Z5OMKTwvhuKD",
        "outputId": "418bc031-75fc-467e-b283-950251fb2243"
      },
      "execution_count": 92,
      "outputs": [
        {
          "output_type": "display_data",
          "data": {
            "text/plain": [
              "<Figure size 800x600 with 2 Axes>"
            ],
            "image/png": "[encoded data removed]"
          },
          "metadata": {}
        }
      ]
    },
    {
      "cell_type": "code",
      "source": [
        "df_test = pd.read_csv(\"/content/Disease_test.csv\")\n",
        "ID=df_test['patient_id']\n",
        "df_test.iloc[:,:] = scaler.transform(df_test.iloc[:,:])"
      ],
      "metadata": {
        "id": "9unN7XoWZ7Qr"
      },
      "execution_count": 113,
      "outputs": []
    },
    {
      "cell_type": "code",
      "source": [
        "X_test = df_test.drop(columns=['patient_id'])\n",
        "test_predictions = (best_xgb_model.predict_proba(X_test)[:, 1]>0.5).astype(int)"
      ],
      "metadata": {
        "id": "k8mjs2g1Z9FA"
      },
      "execution_count": 114,
      "outputs": []
    },
    {
      "cell_type": "code",
      "execution_count": 115,
      "metadata": {
        "id": "IeJpewkpUKjm"
      },
      "outputs": [],
      "source": [
        "student_id = 'SE22UCSE092'\n",
        "predictions_df = pd.DataFrame({\n",
        "    'patient_id': ID,\n",
        "    'prediction': test_predictions\n",
        "})\n",
        "predictions_df.to_csv(f'{student_id}_predictions.csv',index=False)\n"
      ]
    },
    {
      "cell_type": "code",
      "source": [],
      "metadata": {
        "id": "4j_dyhcYKaLG"
      },
      "execution_count": 95,
      "outputs": []
    }
  ]
}